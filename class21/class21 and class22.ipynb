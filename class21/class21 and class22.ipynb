version https://git-lfs.github.com/spec/v1
oid sha256:5a68ffe20555a5617b4b32fdd522b3d71245d79232a83475183cad3fe23b204d
size 784067
