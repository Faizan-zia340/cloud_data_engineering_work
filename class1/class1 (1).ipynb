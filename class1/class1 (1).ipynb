version https://git-lfs.github.com/spec/v1
oid sha256:c24a877e2bacf1ba7c3147d311f54ac459a543defb95892dde81cb6c465d8bed
size 12121
